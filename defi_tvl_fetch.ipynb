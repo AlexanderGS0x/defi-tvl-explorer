{
  "nbformat": 4,
  "nbformat_minor": 0,
  "metadata": {
    "colab": {
      "provenance": []
    },
    "kernelspec": {
      "name": "python3",
      "display_name": "Python 3"
    },
    "language_info": {
      "name": "python"
    }
  },
  "cells": [
    {
      "cell_type": "markdown",
      "source": [],
      "metadata": {
        "id": "ua0cXbJ3nqHP"
      }
    },
    {
      "cell_type": "code",
      "source": [
        "import requests\n",
        "response = requests.get(\"https://api.llama.fi/protocols\")\n",
        "protocols = response.json()\n",
        "for p in protocols:\n",
        "    if p['name'].lower() in ['compound', 'curve']:\n",
        "        print(f\"Name: {p['name']}, Slug: {p['slug']}\")"
      ],
      "metadata": {
        "id": "S7EBMLwInqhH"
      },
      "execution_count": 7,
      "outputs": []
    },
    {
      "cell_type": "code",
      "source": [
        "# Import libraries\n",
        "import requests\n",
        "import pandas as pd\n",
        "from datetime import datetime\n",
        "\n",
        "# Define protocols\n",
        "protocols = {\n",
        "    'uniswap': 'Uniswap',\n",
        "    'aave': 'Aave',\n",
        "    'maple': 'Maple',\n",
        "    'compound': 'Compound',\n",
        "    'lido': 'Lido',\n",
        "    'eigenlayer': 'EigenLayer',\n",
        "    'curve-finance': 'Curve',  # Updated slug\n",
        "    'ethena': 'Ethena'\n",
        "}\n",
        "\n",
        "# Initialize an empty list to store data\n",
        "tvl_data = []\n",
        "\n",
        "# Loop through each protocol\n",
        "for slug, name in protocols.items():\n",
        "    print(f\"Fetching TVL for {name}...\")\n",
        "    url = f\"https://api.llama.fi/protocol/{slug}\"\n",
        "    try:\n",
        "        response = requests.get(url)\n",
        "        response.raise_for_status()  # Raise an error for bad status codes\n",
        "        data = response.json()\n",
        "        # Extract TVL history\n",
        "        for entry in data['tvl']:\n",
        "            tvl_data.append({\n",
        "                'Protocol': name,\n",
        "                'Date': datetime.fromtimestamp(entry['date']).strftime('%Y-%m-%d'),\n",
        "                'TVL_USD': entry['totalLiquidityUSD']\n",
        "            })\n",
        "    except requests.exceptions.HTTPError as e:\n",
        "        print(f\"Failed to fetch data for {name}: {e}\")\n",
        "    except KeyError:\n",
        "        print(f\"No TVL data available for {name}\")\n",
        "\n",
        "# Convert to DataFrame\n",
        "df = pd.DataFrame(tvl_data)\n",
        "\n",
        "# Filter for Q1 2024 and Q1 2025\n",
        "df['Date'] = pd.to_datetime(df['Date'])\n",
        "df = df[(df['Date'].between('2024-01-01', '2024-03-31')) | (df['Date'].between('2025-01-01', '2025-03-31'))]\n",
        "\n",
        "# Save to CSV\n",
        "df.to_csv('defi_tvl_data.csv', index=False)\n",
        "print(\"Data saved to defi_tvl_data.csv\")\n",
        "\n",
        "# Display first few rows\n",
        "print(df.head())"
      ],
      "metadata": {
        "colab": {
          "base_uri": "https://localhost:8080/"
        },
        "id": "ChXdl2G6n1b6",
        "outputId": "f6c18aac-5459-4aa4-8921-3482e5e8d015"
      },
      "execution_count": 9,
      "outputs": [
        {
          "output_type": "stream",
          "name": "stdout",
          "text": [
            "Fetching TVL for Uniswap...\n",
            "Fetching TVL for Aave...\n",
            "Fetching TVL for Maple...\n",
            "Fetching TVL for Compound...\n",
            "Failed to fetch data for Compound: 400 Client Error: Bad Request for url: https://api.llama.fi/protocol/compound\n",
            "Fetching TVL for Lido...\n",
            "Fetching TVL for EigenLayer...\n",
            "Fetching TVL for Curve...\n",
            "Fetching TVL for Ethena...\n",
            "Data saved to defi_tvl_data.csv\n",
            "     Protocol       Date       TVL_USD\n",
            "1885  Uniswap 2024-01-01  3.712661e+09\n",
            "1886  Uniswap 2024-01-02  3.832802e+09\n",
            "1887  Uniswap 2024-01-03  3.825482e+09\n",
            "1888  Uniswap 2024-01-04  3.658153e+09\n",
            "1889  Uniswap 2024-01-05  3.727836e+09\n"
          ]
        }
      ]
    },
    {
      "cell_type": "code",
      "source": [
        "# Import libraries\n",
        "import requests\n",
        "import pandas as pd\n",
        "from datetime import datetime\n",
        "\n",
        "# Define protocols with correct slugs\n",
        "protocols = {\n",
        "    'uniswap': 'Uniswap',\n",
        "    'aave': 'Aave',\n",
        "    'maple': 'Maple',\n",
        "    'compound-finance': 'Compound',  # Updated slug\n",
        "    'lido': 'Lido',\n",
        "    'eigenlayer': 'EigenLayer',\n",
        "    'curve-finance': 'Curve',  # Updated slug\n",
        "    'ethena': 'Ethena'\n",
        "}\n",
        "\n",
        "# Initialize an empty list to store data\n",
        "tvl_data = []\n",
        "\n",
        "# Loop through each protocol\n",
        "for slug, name in protocols.items():\n",
        "    print(f\"Fetching TVL for {name}...\")\n",
        "    url = f\"https://api.llama.fi/protocol/{slug}\"\n",
        "    try:\n",
        "        response = requests.get(url)\n",
        "        response.raise_for_status()  # Raise an error for bad status codes\n",
        "        data = response.json()\n",
        "        # Check if TVL data exists\n",
        "        if 'tvl' in data and data['tvl']:\n",
        "            for entry in data['tvl']:\n",
        "                tvl_data.append({\n",
        "                    'Protocol': name,\n",
        "                    'Date': datetime.fromtimestamp(entry['date']).strftime('%Y-%m-%d'),\n",
        "                    'TVL_USD': entry['totalLiquidityUSD']\n",
        "                })\n",
        "        else:\n",
        "            print(f\"No TVL data available for {name}\")\n",
        "    except requests.exceptions.HTTPError as e:\n",
        "        print(f\"Failed to fetch data for {name}: HTTP Error - {e}\")\n",
        "    except requests.exceptions.RequestException as e:\n",
        "        print(f\"Failed to fetch data for {name}: Request Error - {e}\")\n",
        "    except KeyError as e:\n",
        "        print(f\"Failed to fetch data for {name}: KeyError - {e}\")\n",
        "\n",
        "# Convert to DataFrame\n",
        "df = pd.DataFrame(tvl_data)\n",
        "\n",
        "# Filter for Q1 2024 (2024-01-01 to 2024-03-31) and Q1 2025 (2025-01-01 to 2025-03-31)\n",
        "df['Date'] = pd.to_datetime(df['Date'])\n",
        "df = df[(df['Date'].between('2024-01-01', '2024-03-31')) | (df['Date'].between('2025-01-01', '2025-03-31'))]\n",
        "\n",
        "# Remove duplicates, if any\n",
        "df = df.drop_duplicates()\n",
        "\n",
        "# Sort by Protocol and Date\n",
        "df = df.sort_values(by=['Protocol', 'Date'])\n",
        "\n",
        "# Save to CSV\n",
        "df.to_csv('defi_tvl_data.csv', index=False)\n",
        "print(\"Data saved to defi_tvl_data.csv\")\n",
        "\n",
        "# Display first few rows and data summary\n",
        "print(\"\\nData Preview:\")\n",
        "print(df.head())\n",
        "print(\"\\nProtocols Included:\")\n",
        "print(df['Protocol'].unique())\n",
        "print(\"\\nDate Range:\")\n",
        "print(f\"Min Date: {df['Date'].min()}, Max Date: {df['Date'].max()}\")"
      ],
      "metadata": {
        "colab": {
          "base_uri": "https://localhost:8080/"
        },
        "id": "AJiYv5PbpF4L",
        "outputId": "4e4af8b1-4af0-4601-a4d7-d215a425d646"
      },
      "execution_count": 10,
      "outputs": [
        {
          "output_type": "stream",
          "name": "stdout",
          "text": [
            "Fetching TVL for Uniswap...\n",
            "Fetching TVL for Aave...\n",
            "Fetching TVL for Maple...\n",
            "Fetching TVL for Compound...\n",
            "Fetching TVL for Lido...\n",
            "Fetching TVL for EigenLayer...\n",
            "Fetching TVL for Curve...\n",
            "Fetching TVL for Ethena...\n",
            "Data saved to defi_tvl_data.csv\n",
            "\n",
            "Data Preview:\n",
            "     Protocol       Date       TVL_USD\n",
            "3711     Aave 2024-01-01  6.628393e+09\n",
            "3712     Aave 2024-01-02  6.849093e+09\n",
            "3713     Aave 2024-01-03  6.853216e+09\n",
            "3714     Aave 2024-01-04  6.444211e+09\n",
            "3715     Aave 2024-01-05  6.646273e+09\n",
            "\n",
            "Protocols Included:\n",
            "['Aave' 'Compound' 'Curve' 'EigenLayer' 'Ethena' 'Lido' 'Maple' 'Uniswap']\n",
            "\n",
            "Date Range:\n",
            "Min Date: 2024-01-01 00:00:00, Max Date: 2025-03-31 00:00:00\n"
          ]
        }
      ]
    }
  ]
}